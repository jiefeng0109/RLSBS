{
 "cells": [
  {
   "cell_type": "code",
   "execution_count": null,
   "metadata": {},
   "outputs": [],
   "source": [
    "# !python train_evalnet_ss.py --batch_size=128 --learning_rate=0.001 --num_epoch=500 --lambda_center_Loss=1. --lambda_center_Loss_us=.5\n",
    "# !python train_evalnet_ss.py --batch_size=128 --learning_rate=0.002 --num_epoch=500 --lambda_center_Loss=1. --lambda_center_Loss_us=.5\n",
    "# !python train_evalnet_ss.py --batch_size=128 --learning_rate=0.004 --num_epoch=500 --lambda_center_Loss=1. --lambda_center_Loss_us=.5\n",
    "# !python train_evalnet_ss.py --batch_size=128 --learning_rate=0.005 --num_epoch=500 --lambda_center_Loss=1. --lambda_center_Loss_us=.5\n",
    "# !python train_evalnet_ss.py --batch_size=128 --learning_rate=0.0001 --num_epoch=500 --lambda_center_Loss=1. --lambda_center_Loss_us=.5\n",
    "\n",
    "# !python train_evalnet_ss.py --batch_size=128 --learning_rate=0.001 --num_epoch=2000 --lambda_center_Loss=1. --lambda_center_Loss_us=.5\n",
    "# !python train_evalnet_ss.py --batch_size=128 --learning_rate=0.002 --num_epoch=2000 --lambda_center_Loss=1. --lambda_center_Loss_us=.5\n",
    "# !python train_evalnet_ss.py --batch_size=128 --learning_rate=0.004 --num_epoch=2000 --lambda_center_Loss=1. --lambda_center_Loss_us=.5\n",
    "# !python train_evalnet_ss.py --batch_size=128 --learning_rate=0.005 --num_epoch=2000 --lambda_center_Loss=1. --lambda_center_Loss_us=.5\n",
    "# !python train_evalnet_ss.py --batch_size=128 --learning_rate=0.0001 --num_epoch=2000 --lambda_center_Loss=1. --lambda_center_Loss_us=.5\n",
    "\n",
    "# !python train_evalnet_ss.py --batch_size=128 --learning_rate=0.001 --num_epoch=500 --lambda_center_Loss=.5 --lambda_center_Loss_us=.5\n",
    "# !python train_evalnet_ss.py --batch_size=128 --learning_rate=0.002 --num_epoch=500 --lambda_center_Loss=.5 --lambda_center_Loss_us=.5\n",
    "# !python train_evalnet_ss.py --batch_size=128 --learning_rate=0.004 --num_epoch=500 --lambda_center_Loss=.5 --lambda_center_Loss_us=.5\n",
    "# !python train_evalnet_ss.py --batch_size=128 --learning_rate=0.005 --num_epoch=500 --lambda_center_Loss=.5 --lambda_center_Loss_us=.5\n",
    "# !python train_evalnet_ss.py --batch_size=128 --learning_rate=0.0001 --num_epoch=500 --lambda_center_Loss=.5 --lambda_center_Loss_us=.5\n",
    "\n",
    "# !python train_evalnet_ss.py --batch_size=128 --learning_rate=0.001 --num_epoch=2000 --lambda_center_Loss=.5 --lambda_center_Loss_us=.5\n",
    "!python train_evalnet_ss.py --batch_size=128 --learning_rate=0.002 --num_epoch=2000 --lambda_center_Loss=.5 --lambda_center_Loss_us=.5\n",
    "!python train_evalnet_ss.py --batch_size=128 --learning_rate=0.004 --num_epoch=2000 --lambda_center_Loss=.5 --lambda_center_Loss_us=.5\n",
    "!python train_evalnet_ss.py --batch_size=128 --learning_rate=0.005 --num_epoch=2000 --lambda_center_Loss=.5 --lambda_center_Loss_us=.5\n",
    "!python train_evalnet_ss.py --batch_size=128 --learning_rate=0.0001 --num_epoch=2000 --lambda_center_Loss=.5 --lambda_center_Loss_us=.5\n",
    "\n",
    "!python train_evalnet_ss.py --batch_size=128 --learning_rate=0.001 --num_epoch=500 --lambda_center_Loss=1. --lambda_center_Loss_us=1.\n",
    "!python train_evalnet_ss.py --batch_size=128 --learning_rate=0.002 --num_epoch=500 --lambda_center_Loss=1. --lambda_center_Loss_us=1.\n",
    "!python train_evalnet_ss.py --batch_size=128 --learning_rate=0.004 --num_epoch=500 --lambda_center_Loss=1. --lambda_center_Loss_us=1.\n",
    "!python train_evalnet_ss.py --batch_size=128 --learning_rate=0.005 --num_epoch=500 --lambda_center_Loss=1. --lambda_center_Loss_us=1.\n",
    "!python train_evalnet_ss.py --batch_size=128 --learning_rate=0.0001 --num_epoch=500 --lambda_center_Loss=1. --lambda_center_Loss_us=1.\n",
    "\n",
    "!python train_evalnet_ss.py --batch_size=128 --learning_rate=0.001 --num_epoch=2000 --lambda_center_Loss=1. --lambda_center_Loss_us=1.\n",
    "!python train_evalnet_ss.py --batch_size=128 --learning_rate=0.002 --num_epoch=2000 --lambda_center_Loss=1. --lambda_center_Loss_us=1.\n",
    "!python train_evalnet_ss.py --batch_size=128 --learning_rate=0.004 --num_epoch=2000 --lambda_center_Loss=1. --lambda_center_Loss_us=1.\n",
    "!python train_evalnet_ss.py --batch_size=128 --learning_rate=0.005 --num_epoch=2000 --lambda_center_Loss=1. --lambda_center_Loss_us=1.\n",
    "!python train_evalnet_ss.py --batch_size=128 --learning_rate=0.0001 --num_epoch=2000 --lambda_center_Loss=1. --lambda_center_Loss_us=1."
   ]
  }
 ],
 "metadata": {
  "kernelspec": {
   "display_name": "Python 3",
   "language": "python",
   "name": "python3"
  },
  "language_info": {
   "codemirror_mode": {
    "name": "ipython",
    "version": 3
   },
   "file_extension": ".py",
   "mimetype": "text/x-python",
   "name": "python",
   "nbconvert_exporter": "python",
   "pygments_lexer": "ipython3",
   "version": "3.6.5"
  }
 },
 "nbformat": 4,
 "nbformat_minor": 2
}
