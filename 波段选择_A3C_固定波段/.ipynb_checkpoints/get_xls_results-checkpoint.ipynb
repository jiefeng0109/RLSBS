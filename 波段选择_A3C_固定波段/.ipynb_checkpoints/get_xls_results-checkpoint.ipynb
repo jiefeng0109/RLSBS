{
 "cells": [
  {
   "cell_type": "markdown",
   "metadata": {},
   "source": [
    "本脚本用于HDCNN进行对比实验"
   ]
  },
  {
   "cell_type": "code",
   "execution_count": 1,
   "metadata": {},
   "outputs": [],
   "source": [
    "#count results\n",
    "data_name = \"Houston\"\n",
    "###################################\n",
    "from evaluate_ss import RET\n",
    "results =[]\n",
    "for i in range(5):\n",
    "    !python get_prefile_ss.py --data_name \"PaviaU\" --pt 0.03 --pv 0.06\n",
    "    !python train_evalnet_ss_v2.py --data_name \"PaviaU\" \n",
    "    !python A3C_main.py --data_name \"PaviaU\" --num_band_selection 60 --eval_net_path \"./checkpoint/PaviaU.t7\" -- out_put_path \"./output/PaviaU\"\n",
    "    model = RET(data_name)\n",
    "    results.append(model.results)\n",
    "import numpy as np\n",
    "results = np.array(results)\n",
    "avarage = results.mean(axis=0)*100\n",
    "std = results.std(axis=0)*100\n",
    "avg = [\"%.1f±%.1f\"%(avarage[i],std[i])for i in range(avarage.shape[0])]\n",
    "import xlwt\n",
    "import time\n",
    "#创建一个Workbook对象，相当于创建了一个Excel文件\n",
    "book=xlwt.Workbook(encoding=\"utf-8\",style_compression=0)\n",
    "sheet = book.add_sheet(data_name, cell_overwrite_ok=True)\n",
    "clo_0 = [\"OA\",\"AA\",\"Kappa\"]+list(range(16))\n",
    "row_o = [data_name]+list(range(5))+[\"avg\"]\n",
    "for i in range(len(row_o)):\n",
    "    sheet.write(0, i,row_o[i])\n",
    "for j in range(len(clo_0)):\n",
    "    sheet.write(j+1, 0,clo_0[j])\n",
    "for i in range(len(results)):\n",
    "    for j in range(len(results[0])):\n",
    "        sheet.write(j+1, i+1,results[i][j])\n",
    "for j in range(len(results[0])):\n",
    "    sheet.write(j+1,6,avg[j])\n",
    "book.save(data_name+\"_BSRL_\"+avg[0]+'.xls')"
   ]
  },
  {
   "cell_type": "code",
   "execution_count": null,
   "metadata": {},
   "outputs": [
    {
     "name": "stdout",
     "output_type": "stream",
     "text": [
      "164624\n",
      "1646\n",
      "Finished!\n"
     ]
    }
   ],
   "source": [
    "\n",
    "###################################\n",
    "from evaluate_ss import RET\n",
    "results =[]\n",
    "for i in range(5):\n",
    "    !python get_prefile_ss.py --data_name \"PaviaU\" --pt 0.03 --pv 0.06\n",
    "    !python train_evalnet_ss_v2.py --data_name \"PaviaU\" \n",
    "    !python A3C_main.py --data_name \"PaviaU\" --num_band_selection 60 --eval_net_path \"./checkpoint/PaviaU.t7\" -- out_put_path \"./output/PaviaU\"\n",
    "    model = RET(data_name)\n",
    "    results.append(model.results)\n",
    "import numpy as np\n",
    "results = np.array(results)\n",
    "avarage = results.mean(axis=0)*100\n",
    "std = results.std(axis=0)*100\n",
    "avg = [\"%.1f±%.1f\"%(avarage[i],std[i])for i in range(avarage.shape[0])]\n",
    "import xlwt\n",
    "import time\n",
    "#创建一个Workbook对象，相当于创建了一个Excel文件\n",
    "book=xlwt.Workbook(encoding=\"utf-8\",style_compression=0)\n",
    "sheet = book.add_sheet(data_name, cell_overwrite_ok=True)\n",
    "clo_0 = [\"OA\",\"AA\",\"Kappa\"]+list(range(16))\n",
    "row_o = [data_name]+list(range(5))+[\"avg\"]\n",
    "for i in range(len(row_o)):\n",
    "    sheet.write(0, i,row_o[i])\n",
    "for j in range(len(clo_0)):\n",
    "    sheet.write(j+1, 0,clo_0[j])\n",
    "for i in range(len(results)):\n",
    "    for j in range(len(results[0])):\n",
    "        sheet.write(j+1, i+1,results[i][j])\n",
    "for j in range(len(results[0])):\n",
    "    sheet.write(j+1,6,avg[j])\n",
    "book.save(data_name+\"_BSRL_\"+avg[0]+'.xls')\n",
    "\n",
    "\n"
   ]
  },
  {
   "cell_type": "code",
   "execution_count": null,
   "metadata": {},
   "outputs": [],
   "source": [
    "#count results\n",
    "data_name = \"Houston\"\n",
    "###################################\n",
    "from evaluate_ss import RET\n",
    "results =[]\n",
    "for i in range(5):\n",
    "    !python get_prefile_ss.py --data_name \"Houston\" --pt 0.05 --pv 0.10\n",
    "    !python train_evalnet_ss_v2.py --data_name \"Houston\" \n",
    "    !python A3C_main.py --data_name \"Houston\" --num_band_selection 80 --eval_net_path \"./checkpoint/Houston.t7\" -- out_put_path \"./output/Houston\"\n",
    "    model = RET(data_name)\n",
    "    results.append(model.results)\n",
    "import numpy as np\n",
    "results = np.array(results)\n",
    "avarage = results.mean(axis=0)*100\n",
    "std = results.std(axis=0)*100\n",
    "avg = [\"%.1f±%.1f\"%(avarage[i],std[i])for i in range(avarage.shape[0])]\n",
    "import xlwt\n",
    "import time\n",
    "#创建一个Workbook对象，相当于创建了一个Excel文件\n",
    "book=xlwt.Workbook(encoding=\"utf-8\",style_compression=0)\n",
    "sheet = book.add_sheet(data_name, cell_overwrite_ok=True)\n",
    "clo_0 = [\"OA\",\"AA\",\"Kappa\"]+list(range(16))\n",
    "row_o = [data_name]+list(range(5))+[\"avg\"]\n",
    "for i in range(len(row_o)):\n",
    "    sheet.write(0, i,row_o[i])\n",
    "for j in range(len(clo_0)):\n",
    "    sheet.write(j+1, 0,clo_0[j])\n",
    "for i in range(len(results)):\n",
    "    for j in range(len(results[0])):\n",
    "        sheet.write(j+1, i+1,results[i][j])\n",
    "for j in range(len(results[0])):\n",
    "    sheet.write(j+1,6,avg[j])\n",
    "book.save(data_name+\"_BSRL_\"+avg[0]+'.xls')\n"
   ]
  },
  {
   "cell_type": "code",
   "execution_count": 5,
   "metadata": {},
   "outputs": [],
   "source": []
  },
  {
   "cell_type": "code",
   "execution_count": null,
   "metadata": {},
   "outputs": [],
   "source": []
  }
 ],
 "metadata": {
  "kernelspec": {
   "display_name": "Python 3",
   "language": "python",
   "name": "python3"
  },
  "language_info": {
   "codemirror_mode": {
    "name": "ipython",
    "version": 3
   },
   "file_extension": ".py",
   "mimetype": "text/x-python",
   "name": "python",
   "nbconvert_exporter": "python",
   "pygments_lexer": "ipython3",
   "version": "3.7.4"
  }
 },
 "nbformat": 4,
 "nbformat_minor": 2
}
